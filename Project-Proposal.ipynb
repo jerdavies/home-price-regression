{
 "cells": [
  {
   "cell_type": "markdown",
   "metadata": {},
   "source": [
    "# Group Project Proposal: Home Price Regression"
   ]
  },
  {
   "cell_type": "markdown",
   "metadata": {},
   "source": [
    "## 1. Introduction"
   ]
  },
  {
   "cell_type": "markdown",
   "metadata": {},
   "source": [
    "#### 1.1 Background Information"
   ]
  },
  {
   "cell_type": "markdown",
   "metadata": {},
   "source": [
    "Housing prices vary due to a confluence of various factors including location, size of the house, size of the lot, to name only a few. The extent to which each factor correlates with house prices is not a cut and dry formula. As such, it can be difficult to predict what price one should sell their house for or what price one should offer for a house. This project is built to help figure out these values and the variables that affect housing prices."
   ]
  },
  {
   "cell_type": "markdown",
   "metadata": {},
   "source": [
    "#### 1.2 Objective Question"
   ]
  },
  {
   "cell_type": "markdown",
   "metadata": {},
   "source": [
    "Which real estate factors contribute to most accurately predicting the selling price of a home? Can we build a regression model to accurately predict home prices based on given input real estate factors?"
   ]
  },
  {
   "cell_type": "markdown",
   "metadata": {},
   "source": [
    "#### 1.3 Dataset Description"
   ]
  },
  {
   "cell_type": "markdown",
   "metadata": {},
   "source": [
    "The dataset comprises data for ~1500 house sales in the city of Ames, Iowa from 2006-2010. The response variable in this dataset is the sale price of each home. Additionally, there are approximately 80 descriptive real estate factors (including living area, # of bedrooms and bathrooms, and lot size) for each observation."
   ]
  },
  {
   "cell_type": "code",
   "execution_count": 1,
   "metadata": {},
   "outputs": [],
   "source": [
    "#Place fun house picture here if possible!"
   ]
  },
  {
   "cell_type": "markdown",
   "metadata": {},
   "source": [
    "## 2. Preliminary exploratory data analysis"
   ]
  },
  {
   "cell_type": "markdown",
   "metadata": {},
   "source": [
    "#### 2.1 Reading in data"
   ]
  },
  {
   "cell_type": "code",
   "execution_count": 16,
   "metadata": {},
   "outputs": [
    {
     "name": "stderr",
     "output_type": "stream",
     "text": [
      "Updating HTML index of packages in '.Library'\n",
      "\n",
      "Making 'packages.html' ...\n",
      " done\n",
      "\n"
     ]
    }
   ],
   "source": [
    "#TODO Check which packages are included in base R\n",
    "install.packages('gsheet')\n",
    "library(tidyverse)\n",
    "#library(cowplot)\n",
    "#library(scales)\n",
    "library(tidymodels)\n",
    "library(gsheet)\n",
    "library(repr)\n",
    "options(repr.matrix.max.rows = 8)\n",
    "data <- gsheet2tbl('docs.google.com/spreadsheets/d/1nNlzfwXkHVk2i946pgf3247KT2vqCDfHZjrBjT-losg/edit?usp=sharing')"
   ]
  },
  {
   "cell_type": "markdown",
   "metadata": {},
   "source": [
    "#### 2.2 Clean and wrangle data"
   ]
  },
  {
   "cell_type": "code",
   "execution_count": 27,
   "metadata": {},
   "outputs": [
    {
     "data": {
      "text/html": [
       "<table>\n",
       "<caption>A tibble: 1460 × 30</caption>\n",
       "<thead>\n",
       "\t<tr><th scope=col>Id</th><th scope=col>MSSubClass</th><th scope=col>LotArea</th><th scope=col>LotConfig</th><th scope=col>Neighborhood</th><th scope=col>BldgType</th><th scope=col>HouseStyle</th><th scope=col>OverallQual</th><th scope=col>OverallCond</th><th scope=col>YearBuilt</th><th scope=col>⋯</th><th scope=col>TotRmsAbvGrd</th><th scope=col>Fireplaces</th><th scope=col>GarageCars</th><th scope=col>GarageArea</th><th scope=col>MoSold</th><th scope=col>YrSold</th><th scope=col>SalePrice</th><th scope=col>HasDeck</th><th scope=col>HasPorch</th><th scope=col>HasPool</th></tr>\n",
       "\t<tr><th scope=col>&lt;dbl&gt;</th><th scope=col>&lt;dbl&gt;</th><th scope=col>&lt;dbl&gt;</th><th scope=col>&lt;chr&gt;</th><th scope=col>&lt;chr&gt;</th><th scope=col>&lt;chr&gt;</th><th scope=col>&lt;chr&gt;</th><th scope=col>&lt;dbl&gt;</th><th scope=col>&lt;dbl&gt;</th><th scope=col>&lt;dbl&gt;</th><th scope=col>⋯</th><th scope=col>&lt;dbl&gt;</th><th scope=col>&lt;dbl&gt;</th><th scope=col>&lt;dbl&gt;</th><th scope=col>&lt;dbl&gt;</th><th scope=col>&lt;dbl&gt;</th><th scope=col>&lt;dbl&gt;</th><th scope=col>&lt;dbl&gt;</th><th scope=col>&lt;lgl&gt;</th><th scope=col>&lt;lgl&gt;</th><th scope=col>&lt;lgl&gt;</th></tr>\n",
       "</thead>\n",
       "<tbody>\n",
       "\t<tr><td>1</td><td>60</td><td> 8450</td><td>Inside</td><td>CollgCr</td><td>1Fam</td><td>2Story</td><td>7</td><td>5</td><td>2003</td><td>⋯</td><td>8</td><td>0</td><td>2</td><td>548</td><td>2</td><td>2008</td><td>208500</td><td>FALSE</td><td> TRUE</td><td>FALSE</td></tr>\n",
       "\t<tr><td>2</td><td>20</td><td> 9600</td><td>FR2   </td><td>Veenker</td><td>1Fam</td><td>1Story</td><td>6</td><td>8</td><td>1976</td><td>⋯</td><td>6</td><td>1</td><td>2</td><td>460</td><td>5</td><td>2007</td><td>181500</td><td> TRUE</td><td>FALSE</td><td>FALSE</td></tr>\n",
       "\t<tr><td>3</td><td>60</td><td>11250</td><td>Inside</td><td>CollgCr</td><td>1Fam</td><td>2Story</td><td>7</td><td>5</td><td>2001</td><td>⋯</td><td>6</td><td>1</td><td>2</td><td>608</td><td>9</td><td>2008</td><td>223500</td><td>FALSE</td><td> TRUE</td><td>FALSE</td></tr>\n",
       "\t<tr><td>4</td><td>70</td><td> 9550</td><td>Corner</td><td>Crawfor</td><td>1Fam</td><td>2Story</td><td>7</td><td>5</td><td>1915</td><td>⋯</td><td>7</td><td>1</td><td>3</td><td>642</td><td>2</td><td>2006</td><td>140000</td><td>FALSE</td><td> TRUE</td><td>FALSE</td></tr>\n",
       "\t<tr><td>⋮</td><td>⋮</td><td>⋮</td><td>⋮</td><td>⋮</td><td>⋮</td><td>⋮</td><td>⋮</td><td>⋮</td><td>⋮</td><td>⋱</td><td>⋮</td><td>⋮</td><td>⋮</td><td>⋮</td><td>⋮</td><td>⋮</td><td>⋮</td><td>⋮</td><td>⋮</td><td>⋮</td></tr>\n",
       "\t<tr><td>1457</td><td>20</td><td>13175</td><td>Inside</td><td>NWAmes </td><td>1Fam</td><td>1Story</td><td>6</td><td>6</td><td>1978</td><td>⋯</td><td>7</td><td>2</td><td>2</td><td>500</td><td>2</td><td>2010</td><td>210000</td><td> TRUE</td><td>FALSE</td><td>FALSE</td></tr>\n",
       "\t<tr><td>1458</td><td>70</td><td> 9042</td><td>Inside</td><td>Crawfor</td><td>1Fam</td><td>2Story</td><td>7</td><td>9</td><td>1941</td><td>⋯</td><td>9</td><td>2</td><td>1</td><td>252</td><td>5</td><td>2010</td><td>266500</td><td>FALSE</td><td> TRUE</td><td>FALSE</td></tr>\n",
       "\t<tr><td>1459</td><td>20</td><td> 9717</td><td>Inside</td><td>NAmes  </td><td>1Fam</td><td>1Story</td><td>5</td><td>6</td><td>1950</td><td>⋯</td><td>5</td><td>0</td><td>1</td><td>240</td><td>4</td><td>2010</td><td>142125</td><td> TRUE</td><td> TRUE</td><td>FALSE</td></tr>\n",
       "\t<tr><td>1460</td><td>20</td><td> 9937</td><td>Inside</td><td>Edwards</td><td>1Fam</td><td>1Story</td><td>5</td><td>6</td><td>1965</td><td>⋯</td><td>6</td><td>0</td><td>1</td><td>276</td><td>6</td><td>2008</td><td>147500</td><td> TRUE</td><td> TRUE</td><td>FALSE</td></tr>\n",
       "</tbody>\n",
       "</table>\n"
      ],
      "text/latex": [
       "A tibble: 1460 × 30\n",
       "\\begin{tabular}{lllllllllllllllllllll}\n",
       " Id & MSSubClass & LotArea & LotConfig & Neighborhood & BldgType & HouseStyle & OverallQual & OverallCond & YearBuilt & ⋯ & TotRmsAbvGrd & Fireplaces & GarageCars & GarageArea & MoSold & YrSold & SalePrice & HasDeck & HasPorch & HasPool\\\\\n",
       " <dbl> & <dbl> & <dbl> & <chr> & <chr> & <chr> & <chr> & <dbl> & <dbl> & <dbl> & ⋯ & <dbl> & <dbl> & <dbl> & <dbl> & <dbl> & <dbl> & <dbl> & <lgl> & <lgl> & <lgl>\\\\\n",
       "\\hline\n",
       "\t 1 & 60 &  8450 & Inside & CollgCr & 1Fam & 2Story & 7 & 5 & 2003 & ⋯ & 8 & 0 & 2 & 548 & 2 & 2008 & 208500 & FALSE &  TRUE & FALSE\\\\\n",
       "\t 2 & 20 &  9600 & FR2    & Veenker & 1Fam & 1Story & 6 & 8 & 1976 & ⋯ & 6 & 1 & 2 & 460 & 5 & 2007 & 181500 &  TRUE & FALSE & FALSE\\\\\n",
       "\t 3 & 60 & 11250 & Inside & CollgCr & 1Fam & 2Story & 7 & 5 & 2001 & ⋯ & 6 & 1 & 2 & 608 & 9 & 2008 & 223500 & FALSE &  TRUE & FALSE\\\\\n",
       "\t 4 & 70 &  9550 & Corner & Crawfor & 1Fam & 2Story & 7 & 5 & 1915 & ⋯ & 7 & 1 & 3 & 642 & 2 & 2006 & 140000 & FALSE &  TRUE & FALSE\\\\\n",
       "\t ⋮ & ⋮ & ⋮ & ⋮ & ⋮ & ⋮ & ⋮ & ⋮ & ⋮ & ⋮ & ⋱ & ⋮ & ⋮ & ⋮ & ⋮ & ⋮ & ⋮ & ⋮ & ⋮ & ⋮ & ⋮\\\\\n",
       "\t 1457 & 20 & 13175 & Inside & NWAmes  & 1Fam & 1Story & 6 & 6 & 1978 & ⋯ & 7 & 2 & 2 & 500 & 2 & 2010 & 210000 &  TRUE & FALSE & FALSE\\\\\n",
       "\t 1458 & 70 &  9042 & Inside & Crawfor & 1Fam & 2Story & 7 & 9 & 1941 & ⋯ & 9 & 2 & 1 & 252 & 5 & 2010 & 266500 & FALSE &  TRUE & FALSE\\\\\n",
       "\t 1459 & 20 &  9717 & Inside & NAmes   & 1Fam & 1Story & 5 & 6 & 1950 & ⋯ & 5 & 0 & 1 & 240 & 4 & 2010 & 142125 &  TRUE &  TRUE & FALSE\\\\\n",
       "\t 1460 & 20 &  9937 & Inside & Edwards & 1Fam & 1Story & 5 & 6 & 1965 & ⋯ & 6 & 0 & 1 & 276 & 6 & 2008 & 147500 &  TRUE &  TRUE & FALSE\\\\\n",
       "\\end{tabular}\n"
      ],
      "text/markdown": [
       "\n",
       "A tibble: 1460 × 30\n",
       "\n",
       "| Id &lt;dbl&gt; | MSSubClass &lt;dbl&gt; | LotArea &lt;dbl&gt; | LotConfig &lt;chr&gt; | Neighborhood &lt;chr&gt; | BldgType &lt;chr&gt; | HouseStyle &lt;chr&gt; | OverallQual &lt;dbl&gt; | OverallCond &lt;dbl&gt; | YearBuilt &lt;dbl&gt; | ⋯ ⋯ | TotRmsAbvGrd &lt;dbl&gt; | Fireplaces &lt;dbl&gt; | GarageCars &lt;dbl&gt; | GarageArea &lt;dbl&gt; | MoSold &lt;dbl&gt; | YrSold &lt;dbl&gt; | SalePrice &lt;dbl&gt; | HasDeck &lt;lgl&gt; | HasPorch &lt;lgl&gt; | HasPool &lt;lgl&gt; |\n",
       "|---|---|---|---|---|---|---|---|---|---|---|---|---|---|---|---|---|---|---|---|---|\n",
       "| 1 | 60 |  8450 | Inside | CollgCr | 1Fam | 2Story | 7 | 5 | 2003 | ⋯ | 8 | 0 | 2 | 548 | 2 | 2008 | 208500 | FALSE |  TRUE | FALSE |\n",
       "| 2 | 20 |  9600 | FR2    | Veenker | 1Fam | 1Story | 6 | 8 | 1976 | ⋯ | 6 | 1 | 2 | 460 | 5 | 2007 | 181500 |  TRUE | FALSE | FALSE |\n",
       "| 3 | 60 | 11250 | Inside | CollgCr | 1Fam | 2Story | 7 | 5 | 2001 | ⋯ | 6 | 1 | 2 | 608 | 9 | 2008 | 223500 | FALSE |  TRUE | FALSE |\n",
       "| 4 | 70 |  9550 | Corner | Crawfor | 1Fam | 2Story | 7 | 5 | 1915 | ⋯ | 7 | 1 | 3 | 642 | 2 | 2006 | 140000 | FALSE |  TRUE | FALSE |\n",
       "| ⋮ | ⋮ | ⋮ | ⋮ | ⋮ | ⋮ | ⋮ | ⋮ | ⋮ | ⋮ | ⋱ | ⋮ | ⋮ | ⋮ | ⋮ | ⋮ | ⋮ | ⋮ | ⋮ | ⋮ | ⋮ |\n",
       "| 1457 | 20 | 13175 | Inside | NWAmes  | 1Fam | 1Story | 6 | 6 | 1978 | ⋯ | 7 | 2 | 2 | 500 | 2 | 2010 | 210000 |  TRUE | FALSE | FALSE |\n",
       "| 1458 | 70 |  9042 | Inside | Crawfor | 1Fam | 2Story | 7 | 9 | 1941 | ⋯ | 9 | 2 | 1 | 252 | 5 | 2010 | 266500 | FALSE |  TRUE | FALSE |\n",
       "| 1459 | 20 |  9717 | Inside | NAmes   | 1Fam | 1Story | 5 | 6 | 1950 | ⋯ | 5 | 0 | 1 | 240 | 4 | 2010 | 142125 |  TRUE |  TRUE | FALSE |\n",
       "| 1460 | 20 |  9937 | Inside | Edwards | 1Fam | 1Story | 5 | 6 | 1965 | ⋯ | 6 | 0 | 1 | 276 | 6 | 2008 | 147500 |  TRUE |  TRUE | FALSE |\n",
       "\n"
      ],
      "text/plain": [
       "     Id   MSSubClass LotArea LotConfig Neighborhood BldgType HouseStyle\n",
       "1    1    60          8450   Inside    CollgCr      1Fam     2Story    \n",
       "2    2    20          9600   FR2       Veenker      1Fam     1Story    \n",
       "3    3    60         11250   Inside    CollgCr      1Fam     2Story    \n",
       "4    4    70          9550   Corner    Crawfor      1Fam     2Story    \n",
       "⋮    ⋮    ⋮          ⋮       ⋮         ⋮            ⋮        ⋮         \n",
       "1457 1457 20         13175   Inside    NWAmes       1Fam     1Story    \n",
       "1458 1458 70          9042   Inside    Crawfor      1Fam     2Story    \n",
       "1459 1459 20          9717   Inside    NAmes        1Fam     1Story    \n",
       "1460 1460 20          9937   Inside    Edwards      1Fam     1Story    \n",
       "     OverallQual OverallCond YearBuilt ⋯ TotRmsAbvGrd Fireplaces GarageCars\n",
       "1    7           5           2003      ⋯ 8            0          2         \n",
       "2    6           8           1976      ⋯ 6            1          2         \n",
       "3    7           5           2001      ⋯ 6            1          2         \n",
       "4    7           5           1915      ⋯ 7            1          3         \n",
       "⋮    ⋮           ⋮           ⋮         ⋱ ⋮            ⋮          ⋮         \n",
       "1457 6           6           1978      ⋯ 7            2          2         \n",
       "1458 7           9           1941      ⋯ 9            2          1         \n",
       "1459 5           6           1950      ⋯ 5            0          1         \n",
       "1460 5           6           1965      ⋯ 6            0          1         \n",
       "     GarageArea MoSold YrSold SalePrice HasDeck HasPorch HasPool\n",
       "1    548        2      2008   208500    FALSE    TRUE    FALSE  \n",
       "2    460        5      2007   181500     TRUE   FALSE    FALSE  \n",
       "3    608        9      2008   223500    FALSE    TRUE    FALSE  \n",
       "4    642        2      2006   140000    FALSE    TRUE    FALSE  \n",
       "⋮    ⋮          ⋮      ⋮      ⋮         ⋮       ⋮        ⋮      \n",
       "1457 500        2      2010   210000     TRUE   FALSE    FALSE  \n",
       "1458 252        5      2010   266500    FALSE    TRUE    FALSE  \n",
       "1459 240        4      2010   142125     TRUE    TRUE    FALSE  \n",
       "1460 276        6      2008   147500     TRUE    TRUE    FALSE  "
      ]
     },
     "metadata": {},
     "output_type": "display_data"
    },
    {
     "data": {
      "text/html": [
       "<table>\n",
       "<caption>A tibble: 1 × 21</caption>\n",
       "<thead>\n",
       "\t<tr><th scope=col>Id</th><th scope=col>MSSubClass</th><th scope=col>LotArea</th><th scope=col>OverallQual</th><th scope=col>OverallCond</th><th scope=col>YearBuilt</th><th scope=col>YearRemodAdd</th><th scope=col>TotalBsmtSF</th><th scope=col>GrLivArea</th><th scope=col>BsmtFullBath</th><th scope=col>⋯</th><th scope=col>FullBath</th><th scope=col>HalfBath</th><th scope=col>KitchenAbvGr</th><th scope=col>TotRmsAbvGrd</th><th scope=col>Fireplaces</th><th scope=col>GarageCars</th><th scope=col>GarageArea</th><th scope=col>MoSold</th><th scope=col>YrSold</th><th scope=col>SalePrice</th></tr>\n",
       "\t<tr><th scope=col>&lt;dbl&gt;</th><th scope=col>&lt;dbl&gt;</th><th scope=col>&lt;dbl&gt;</th><th scope=col>&lt;dbl&gt;</th><th scope=col>&lt;dbl&gt;</th><th scope=col>&lt;dbl&gt;</th><th scope=col>&lt;dbl&gt;</th><th scope=col>&lt;dbl&gt;</th><th scope=col>&lt;dbl&gt;</th><th scope=col>&lt;dbl&gt;</th><th scope=col>⋯</th><th scope=col>&lt;dbl&gt;</th><th scope=col>&lt;dbl&gt;</th><th scope=col>&lt;dbl&gt;</th><th scope=col>&lt;dbl&gt;</th><th scope=col>&lt;dbl&gt;</th><th scope=col>&lt;dbl&gt;</th><th scope=col>&lt;dbl&gt;</th><th scope=col>&lt;dbl&gt;</th><th scope=col>&lt;dbl&gt;</th><th scope=col>&lt;dbl&gt;</th></tr>\n",
       "</thead>\n",
       "<tbody>\n",
       "\t<tr><td>1460</td><td>190</td><td>215245</td><td>10</td><td>9</td><td>2010</td><td>2010</td><td>6110</td><td>5642</td><td>3</td><td>⋯</td><td>3</td><td>2</td><td>3</td><td>14</td><td>3</td><td>4</td><td>1418</td><td>12</td><td>2010</td><td>755000</td></tr>\n",
       "</tbody>\n",
       "</table>\n"
      ],
      "text/latex": [
       "A tibble: 1 × 21\n",
       "\\begin{tabular}{lllllllllllllllllllll}\n",
       " Id & MSSubClass & LotArea & OverallQual & OverallCond & YearBuilt & YearRemodAdd & TotalBsmtSF & GrLivArea & BsmtFullBath & ⋯ & FullBath & HalfBath & KitchenAbvGr & TotRmsAbvGrd & Fireplaces & GarageCars & GarageArea & MoSold & YrSold & SalePrice\\\\\n",
       " <dbl> & <dbl> & <dbl> & <dbl> & <dbl> & <dbl> & <dbl> & <dbl> & <dbl> & <dbl> & ⋯ & <dbl> & <dbl> & <dbl> & <dbl> & <dbl> & <dbl> & <dbl> & <dbl> & <dbl> & <dbl>\\\\\n",
       "\\hline\n",
       "\t 1460 & 190 & 215245 & 10 & 9 & 2010 & 2010 & 6110 & 5642 & 3 & ⋯ & 3 & 2 & 3 & 14 & 3 & 4 & 1418 & 12 & 2010 & 755000\\\\\n",
       "\\end{tabular}\n"
      ],
      "text/markdown": [
       "\n",
       "A tibble: 1 × 21\n",
       "\n",
       "| Id &lt;dbl&gt; | MSSubClass &lt;dbl&gt; | LotArea &lt;dbl&gt; | OverallQual &lt;dbl&gt; | OverallCond &lt;dbl&gt; | YearBuilt &lt;dbl&gt; | YearRemodAdd &lt;dbl&gt; | TotalBsmtSF &lt;dbl&gt; | GrLivArea &lt;dbl&gt; | BsmtFullBath &lt;dbl&gt; | ⋯ ⋯ | FullBath &lt;dbl&gt; | HalfBath &lt;dbl&gt; | KitchenAbvGr &lt;dbl&gt; | TotRmsAbvGrd &lt;dbl&gt; | Fireplaces &lt;dbl&gt; | GarageCars &lt;dbl&gt; | GarageArea &lt;dbl&gt; | MoSold &lt;dbl&gt; | YrSold &lt;dbl&gt; | SalePrice &lt;dbl&gt; |\n",
       "|---|---|---|---|---|---|---|---|---|---|---|---|---|---|---|---|---|---|---|---|---|\n",
       "| 1460 | 190 | 215245 | 10 | 9 | 2010 | 2010 | 6110 | 5642 | 3 | ⋯ | 3 | 2 | 3 | 14 | 3 | 4 | 1418 | 12 | 2010 | 755000 |\n",
       "\n"
      ],
      "text/plain": [
       "  Id   MSSubClass LotArea OverallQual OverallCond YearBuilt YearRemodAdd\n",
       "1 1460 190        215245  10          9           2010      2010        \n",
       "  TotalBsmtSF GrLivArea BsmtFullBath ⋯ FullBath HalfBath KitchenAbvGr\n",
       "1 6110        5642      3            ⋯ 3        2        3           \n",
       "  TotRmsAbvGrd Fireplaces GarageCars GarageArea MoSold YrSold SalePrice\n",
       "1 14           3          4          1418       12     2010   755000   "
      ]
     },
     "metadata": {},
     "output_type": "display_data"
    },
    {
     "ename": "ERROR",
     "evalue": "Error: `n()` must only be used inside dplyr verbs.\n",
     "output_type": "error",
     "traceback": [
      "Error: `n()` must only be used inside dplyr verbs.\nTraceback:\n",
      "1. summarize_all(data_selected_numeric, n(), na.rm = TRUE)",
      "2. manip_all(.tbl, .funs, enquo(.funs), caller_env(), ..., .caller = \"summarise_all\")",
      "3. as_fun_list(.funs, .env, ..., .caller = .caller)",
      "4. is_fun_list(.funs)",
      "5. n()",
      "6. peek_mask(\"n()\")",
      "7. context_peek(\"mask\", fun)",
      "8. context_peek_bare(name) %||% abort(glue(\"`{fun}` must only be used inside {location}.\"))",
      "9. abort(glue(\"`{fun}` must only be used inside {location}.\"))",
      "10. signal_abort(cnd)"
     ]
    }
   ],
   "source": [
    "names(data)[70] <- \"ThreeSsnPorch\"\n",
    "data_selected <- data %>%\n",
    "    select(Id, MSSubClass, LotArea, LotConfig, Neighborhood, BldgType, HouseStyle, OverallQual, OverallCond, YearBuilt, YearRemodAdd, Exterior1st, Exterior2nd, TotalBsmtSF, GrLivArea, BsmtFullBath, BsmtHalfBath, FullBath, HalfBath, KitchenAbvGr, TotRmsAbvGrd, Fireplaces, GarageCars, GarageArea, WoodDeckSF, OpenPorchSF, EnclosedPorch,\n",
    "           ThreeSsnPorch, \n",
    "           ScreenPorch, PoolArea, MoSold, YrSold, SalePrice) %>%\n",
    "    mutate(HasDeck = WoodDeckSF > 0,HasPorch = (OpenPorchSF > 0 | EnclosedPorch > 0 | ThreeSsnPorch > 0 | ScreenPorch > 0), HasPool = PoolArea > 0) %>%\n",
    "    select(-WoodDeckSF, -OpenPorchSF, -EnclosedPorch, -ThreeSsnPorch, -ScreenPorch, -PoolArea)\n",
    "data_selected\n",
    "\n",
    "data_selected_numeric <- select_if(data_selected,is.numeric)\n",
    "data_max <- summarize_all(data_selected_numeric,max, na.rm = TRUE)\n",
    "data_max\n",
    "data_min <- summarize_all(data_selected_numeric,min, na.rm = TRUE)\n",
    "data_mean <- summarize_all(data_selected_numeric,mean, na.rm = TRUE)\n",
    "data_count <- summarize_all(data_selected_numeric,na.rm=TRUE)\n",
    "data_count"
   ]
  },
  {
   "cell_type": "code",
   "execution_count": 20,
   "metadata": {},
   "outputs": [
    {
     "data": {
      "text/html": [
       "<table>\n",
       "<caption>A tibble: 1095 × 81</caption>\n",
       "<thead>\n",
       "\t<tr><th scope=col>Id</th><th scope=col>MSSubClass</th><th scope=col>MSZoning</th><th scope=col>LotFrontage</th><th scope=col>LotArea</th><th scope=col>Street</th><th scope=col>Alley</th><th scope=col>LotShape</th><th scope=col>LandContour</th><th scope=col>Utilities</th><th scope=col>⋯</th><th scope=col>PoolArea</th><th scope=col>PoolQC</th><th scope=col>Fence</th><th scope=col>MiscFeature</th><th scope=col>MiscVal</th><th scope=col>MoSold</th><th scope=col>YrSold</th><th scope=col>SaleType</th><th scope=col>SaleCondition</th><th scope=col>SalePrice</th></tr>\n",
       "\t<tr><th scope=col>&lt;dbl&gt;</th><th scope=col>&lt;dbl&gt;</th><th scope=col>&lt;chr&gt;</th><th scope=col>&lt;dbl&gt;</th><th scope=col>&lt;dbl&gt;</th><th scope=col>&lt;chr&gt;</th><th scope=col>&lt;chr&gt;</th><th scope=col>&lt;chr&gt;</th><th scope=col>&lt;chr&gt;</th><th scope=col>&lt;chr&gt;</th><th scope=col>⋯</th><th scope=col>&lt;dbl&gt;</th><th scope=col>&lt;chr&gt;</th><th scope=col>&lt;chr&gt;</th><th scope=col>&lt;chr&gt;</th><th scope=col>&lt;dbl&gt;</th><th scope=col>&lt;dbl&gt;</th><th scope=col>&lt;dbl&gt;</th><th scope=col>&lt;chr&gt;</th><th scope=col>&lt;chr&gt;</th><th scope=col>&lt;dbl&gt;</th></tr>\n",
       "</thead>\n",
       "<tbody>\n",
       "\t<tr><td>1</td><td>60</td><td>RL</td><td>65</td><td> 8450</td><td>Pave</td><td>NA</td><td>Reg</td><td>Lvl</td><td>AllPub</td><td>⋯</td><td>0</td><td>NA</td><td>NA</td><td>NA</td><td>0</td><td> 2</td><td>2008</td><td>WD</td><td>Normal</td><td>208500</td></tr>\n",
       "\t<tr><td>2</td><td>20</td><td>RL</td><td>80</td><td> 9600</td><td>Pave</td><td>NA</td><td>Reg</td><td>Lvl</td><td>AllPub</td><td>⋯</td><td>0</td><td>NA</td><td>NA</td><td>NA</td><td>0</td><td> 5</td><td>2007</td><td>WD</td><td>Normal</td><td>181500</td></tr>\n",
       "\t<tr><td>3</td><td>60</td><td>RL</td><td>68</td><td>11250</td><td>Pave</td><td>NA</td><td>IR1</td><td>Lvl</td><td>AllPub</td><td>⋯</td><td>0</td><td>NA</td><td>NA</td><td>NA</td><td>0</td><td> 9</td><td>2008</td><td>WD</td><td>Normal</td><td>223500</td></tr>\n",
       "\t<tr><td>5</td><td>60</td><td>RL</td><td>84</td><td>14260</td><td>Pave</td><td>NA</td><td>IR1</td><td>Lvl</td><td>AllPub</td><td>⋯</td><td>0</td><td>NA</td><td>NA</td><td>NA</td><td>0</td><td>12</td><td>2008</td><td>WD</td><td>Normal</td><td>250000</td></tr>\n",
       "\t<tr><td>⋮</td><td>⋮</td><td>⋮</td><td>⋮</td><td>⋮</td><td>⋮</td><td>⋮</td><td>⋮</td><td>⋮</td><td>⋮</td><td>⋱</td><td>⋮</td><td>⋮</td><td>⋮</td><td>⋮</td><td>⋮</td><td>⋮</td><td>⋮</td><td>⋮</td><td>⋮</td><td>⋮</td></tr>\n",
       "\t<tr><td>1457</td><td>20</td><td>RL</td><td>85</td><td>13175</td><td>Pave</td><td>NA</td><td>Reg</td><td>Lvl</td><td>AllPub</td><td>⋯</td><td>0</td><td>NA</td><td>MnPrv</td><td>NA  </td><td>   0</td><td>2</td><td>2010</td><td>WD</td><td>Normal</td><td>210000</td></tr>\n",
       "\t<tr><td>1458</td><td>70</td><td>RL</td><td>66</td><td> 9042</td><td>Pave</td><td>NA</td><td>Reg</td><td>Lvl</td><td>AllPub</td><td>⋯</td><td>0</td><td>NA</td><td>GdPrv</td><td>Shed</td><td>2500</td><td>5</td><td>2010</td><td>WD</td><td>Normal</td><td>266500</td></tr>\n",
       "\t<tr><td>1459</td><td>20</td><td>RL</td><td>68</td><td> 9717</td><td>Pave</td><td>NA</td><td>Reg</td><td>Lvl</td><td>AllPub</td><td>⋯</td><td>0</td><td>NA</td><td>NA   </td><td>NA  </td><td>   0</td><td>4</td><td>2010</td><td>WD</td><td>Normal</td><td>142125</td></tr>\n",
       "\t<tr><td>1460</td><td>20</td><td>RL</td><td>75</td><td> 9937</td><td>Pave</td><td>NA</td><td>Reg</td><td>Lvl</td><td>AllPub</td><td>⋯</td><td>0</td><td>NA</td><td>NA   </td><td>NA  </td><td>   0</td><td>6</td><td>2008</td><td>WD</td><td>Normal</td><td>147500</td></tr>\n",
       "</tbody>\n",
       "</table>\n"
      ],
      "text/latex": [
       "A tibble: 1095 × 81\n",
       "\\begin{tabular}{lllllllllllllllllllll}\n",
       " Id & MSSubClass & MSZoning & LotFrontage & LotArea & Street & Alley & LotShape & LandContour & Utilities & ⋯ & PoolArea & PoolQC & Fence & MiscFeature & MiscVal & MoSold & YrSold & SaleType & SaleCondition & SalePrice\\\\\n",
       " <dbl> & <dbl> & <chr> & <dbl> & <dbl> & <chr> & <chr> & <chr> & <chr> & <chr> & ⋯ & <dbl> & <chr> & <chr> & <chr> & <dbl> & <dbl> & <dbl> & <chr> & <chr> & <dbl>\\\\\n",
       "\\hline\n",
       "\t 1 & 60 & RL & 65 &  8450 & Pave & NA & Reg & Lvl & AllPub & ⋯ & 0 & NA & NA & NA & 0 &  2 & 2008 & WD & Normal & 208500\\\\\n",
       "\t 2 & 20 & RL & 80 &  9600 & Pave & NA & Reg & Lvl & AllPub & ⋯ & 0 & NA & NA & NA & 0 &  5 & 2007 & WD & Normal & 181500\\\\\n",
       "\t 3 & 60 & RL & 68 & 11250 & Pave & NA & IR1 & Lvl & AllPub & ⋯ & 0 & NA & NA & NA & 0 &  9 & 2008 & WD & Normal & 223500\\\\\n",
       "\t 5 & 60 & RL & 84 & 14260 & Pave & NA & IR1 & Lvl & AllPub & ⋯ & 0 & NA & NA & NA & 0 & 12 & 2008 & WD & Normal & 250000\\\\\n",
       "\t ⋮ & ⋮ & ⋮ & ⋮ & ⋮ & ⋮ & ⋮ & ⋮ & ⋮ & ⋮ & ⋱ & ⋮ & ⋮ & ⋮ & ⋮ & ⋮ & ⋮ & ⋮ & ⋮ & ⋮ & ⋮\\\\\n",
       "\t 1457 & 20 & RL & 85 & 13175 & Pave & NA & Reg & Lvl & AllPub & ⋯ & 0 & NA & MnPrv & NA   &    0 & 2 & 2010 & WD & Normal & 210000\\\\\n",
       "\t 1458 & 70 & RL & 66 &  9042 & Pave & NA & Reg & Lvl & AllPub & ⋯ & 0 & NA & GdPrv & Shed & 2500 & 5 & 2010 & WD & Normal & 266500\\\\\n",
       "\t 1459 & 20 & RL & 68 &  9717 & Pave & NA & Reg & Lvl & AllPub & ⋯ & 0 & NA & NA    & NA   &    0 & 4 & 2010 & WD & Normal & 142125\\\\\n",
       "\t 1460 & 20 & RL & 75 &  9937 & Pave & NA & Reg & Lvl & AllPub & ⋯ & 0 & NA & NA    & NA   &    0 & 6 & 2008 & WD & Normal & 147500\\\\\n",
       "\\end{tabular}\n"
      ],
      "text/markdown": [
       "\n",
       "A tibble: 1095 × 81\n",
       "\n",
       "| Id &lt;dbl&gt; | MSSubClass &lt;dbl&gt; | MSZoning &lt;chr&gt; | LotFrontage &lt;dbl&gt; | LotArea &lt;dbl&gt; | Street &lt;chr&gt; | Alley &lt;chr&gt; | LotShape &lt;chr&gt; | LandContour &lt;chr&gt; | Utilities &lt;chr&gt; | ⋯ ⋯ | PoolArea &lt;dbl&gt; | PoolQC &lt;chr&gt; | Fence &lt;chr&gt; | MiscFeature &lt;chr&gt; | MiscVal &lt;dbl&gt; | MoSold &lt;dbl&gt; | YrSold &lt;dbl&gt; | SaleType &lt;chr&gt; | SaleCondition &lt;chr&gt; | SalePrice &lt;dbl&gt; |\n",
       "|---|---|---|---|---|---|---|---|---|---|---|---|---|---|---|---|---|---|---|---|---|\n",
       "| 1 | 60 | RL | 65 |  8450 | Pave | NA | Reg | Lvl | AllPub | ⋯ | 0 | NA | NA | NA | 0 |  2 | 2008 | WD | Normal | 208500 |\n",
       "| 2 | 20 | RL | 80 |  9600 | Pave | NA | Reg | Lvl | AllPub | ⋯ | 0 | NA | NA | NA | 0 |  5 | 2007 | WD | Normal | 181500 |\n",
       "| 3 | 60 | RL | 68 | 11250 | Pave | NA | IR1 | Lvl | AllPub | ⋯ | 0 | NA | NA | NA | 0 |  9 | 2008 | WD | Normal | 223500 |\n",
       "| 5 | 60 | RL | 84 | 14260 | Pave | NA | IR1 | Lvl | AllPub | ⋯ | 0 | NA | NA | NA | 0 | 12 | 2008 | WD | Normal | 250000 |\n",
       "| ⋮ | ⋮ | ⋮ | ⋮ | ⋮ | ⋮ | ⋮ | ⋮ | ⋮ | ⋮ | ⋱ | ⋮ | ⋮ | ⋮ | ⋮ | ⋮ | ⋮ | ⋮ | ⋮ | ⋮ | ⋮ |\n",
       "| 1457 | 20 | RL | 85 | 13175 | Pave | NA | Reg | Lvl | AllPub | ⋯ | 0 | NA | MnPrv | NA   |    0 | 2 | 2010 | WD | Normal | 210000 |\n",
       "| 1458 | 70 | RL | 66 |  9042 | Pave | NA | Reg | Lvl | AllPub | ⋯ | 0 | NA | GdPrv | Shed | 2500 | 5 | 2010 | WD | Normal | 266500 |\n",
       "| 1459 | 20 | RL | 68 |  9717 | Pave | NA | Reg | Lvl | AllPub | ⋯ | 0 | NA | NA    | NA   |    0 | 4 | 2010 | WD | Normal | 142125 |\n",
       "| 1460 | 20 | RL | 75 |  9937 | Pave | NA | Reg | Lvl | AllPub | ⋯ | 0 | NA | NA    | NA   |    0 | 6 | 2008 | WD | Normal | 147500 |\n",
       "\n"
      ],
      "text/plain": [
       "     Id   MSSubClass MSZoning LotFrontage LotArea Street Alley LotShape\n",
       "1    1    60         RL       65           8450   Pave   NA    Reg     \n",
       "2    2    20         RL       80           9600   Pave   NA    Reg     \n",
       "3    3    60         RL       68          11250   Pave   NA    IR1     \n",
       "4    5    60         RL       84          14260   Pave   NA    IR1     \n",
       "⋮    ⋮    ⋮          ⋮        ⋮           ⋮       ⋮      ⋮     ⋮       \n",
       "1092 1457 20         RL       85          13175   Pave   NA    Reg     \n",
       "1093 1458 70         RL       66           9042   Pave   NA    Reg     \n",
       "1094 1459 20         RL       68           9717   Pave   NA    Reg     \n",
       "1095 1460 20         RL       75           9937   Pave   NA    Reg     \n",
       "     LandContour Utilities ⋯ PoolArea PoolQC Fence MiscFeature MiscVal MoSold\n",
       "1    Lvl         AllPub    ⋯ 0        NA     NA    NA          0        2    \n",
       "2    Lvl         AllPub    ⋯ 0        NA     NA    NA          0        5    \n",
       "3    Lvl         AllPub    ⋯ 0        NA     NA    NA          0        9    \n",
       "4    Lvl         AllPub    ⋯ 0        NA     NA    NA          0       12    \n",
       "⋮    ⋮           ⋮         ⋱ ⋮        ⋮      ⋮     ⋮           ⋮       ⋮     \n",
       "1092 Lvl         AllPub    ⋯ 0        NA     MnPrv NA             0    2     \n",
       "1093 Lvl         AllPub    ⋯ 0        NA     GdPrv Shed        2500    5     \n",
       "1094 Lvl         AllPub    ⋯ 0        NA     NA    NA             0    4     \n",
       "1095 Lvl         AllPub    ⋯ 0        NA     NA    NA             0    6     \n",
       "     YrSold SaleType SaleCondition SalePrice\n",
       "1    2008   WD       Normal        208500   \n",
       "2    2007   WD       Normal        181500   \n",
       "3    2008   WD       Normal        223500   \n",
       "4    2008   WD       Normal        250000   \n",
       "⋮    ⋮      ⋮        ⋮             ⋮        \n",
       "1092 2010   WD       Normal        210000   \n",
       "1093 2010   WD       Normal        266500   \n",
       "1094 2010   WD       Normal        142125   \n",
       "1095 2008   WD       Normal        147500   "
      ]
     },
     "metadata": {},
     "output_type": "display_data"
    },
    {
     "data": {
      "text/html": [
       "<table>\n",
       "<caption>A tibble: 365 × 81</caption>\n",
       "<thead>\n",
       "\t<tr><th scope=col>Id</th><th scope=col>MSSubClass</th><th scope=col>MSZoning</th><th scope=col>LotFrontage</th><th scope=col>LotArea</th><th scope=col>Street</th><th scope=col>Alley</th><th scope=col>LotShape</th><th scope=col>LandContour</th><th scope=col>Utilities</th><th scope=col>⋯</th><th scope=col>PoolArea</th><th scope=col>PoolQC</th><th scope=col>Fence</th><th scope=col>MiscFeature</th><th scope=col>MiscVal</th><th scope=col>MoSold</th><th scope=col>YrSold</th><th scope=col>SaleType</th><th scope=col>SaleCondition</th><th scope=col>SalePrice</th></tr>\n",
       "\t<tr><th scope=col>&lt;dbl&gt;</th><th scope=col>&lt;dbl&gt;</th><th scope=col>&lt;chr&gt;</th><th scope=col>&lt;dbl&gt;</th><th scope=col>&lt;dbl&gt;</th><th scope=col>&lt;chr&gt;</th><th scope=col>&lt;chr&gt;</th><th scope=col>&lt;chr&gt;</th><th scope=col>&lt;chr&gt;</th><th scope=col>&lt;chr&gt;</th><th scope=col>⋯</th><th scope=col>&lt;dbl&gt;</th><th scope=col>&lt;chr&gt;</th><th scope=col>&lt;chr&gt;</th><th scope=col>&lt;chr&gt;</th><th scope=col>&lt;dbl&gt;</th><th scope=col>&lt;dbl&gt;</th><th scope=col>&lt;dbl&gt;</th><th scope=col>&lt;chr&gt;</th><th scope=col>&lt;chr&gt;</th><th scope=col>&lt;dbl&gt;</th></tr>\n",
       "</thead>\n",
       "<tbody>\n",
       "\t<tr><td> 4</td><td> 70</td><td>RL</td><td>60</td><td> 9550</td><td>Pave</td><td>NA</td><td>IR1</td><td>Lvl</td><td>AllPub</td><td>⋯</td><td>0</td><td>NA</td><td>NA</td><td>NA</td><td>0</td><td>2</td><td>2006</td><td>WD</td><td>Abnorml</td><td>140000</td></tr>\n",
       "\t<tr><td>10</td><td>190</td><td>RL</td><td>50</td><td> 7420</td><td>Pave</td><td>NA</td><td>Reg</td><td>Lvl</td><td>AllPub</td><td>⋯</td><td>0</td><td>NA</td><td>NA</td><td>NA</td><td>0</td><td>1</td><td>2008</td><td>WD</td><td>Normal </td><td>118000</td></tr>\n",
       "\t<tr><td>11</td><td> 20</td><td>RL</td><td>70</td><td>11200</td><td>Pave</td><td>NA</td><td>Reg</td><td>Lvl</td><td>AllPub</td><td>⋯</td><td>0</td><td>NA</td><td>NA</td><td>NA</td><td>0</td><td>2</td><td>2008</td><td>WD</td><td>Normal </td><td>129500</td></tr>\n",
       "\t<tr><td>13</td><td> 20</td><td>RL</td><td>NA</td><td>12968</td><td>Pave</td><td>NA</td><td>IR2</td><td>Lvl</td><td>AllPub</td><td>⋯</td><td>0</td><td>NA</td><td>NA</td><td>NA</td><td>0</td><td>9</td><td>2008</td><td>WD</td><td>Normal </td><td>144000</td></tr>\n",
       "\t<tr><td>⋮</td><td>⋮</td><td>⋮</td><td>⋮</td><td>⋮</td><td>⋮</td><td>⋮</td><td>⋮</td><td>⋮</td><td>⋮</td><td>⋱</td><td>⋮</td><td>⋮</td><td>⋮</td><td>⋮</td><td>⋮</td><td>⋮</td><td>⋮</td><td>⋮</td><td>⋮</td><td>⋮</td></tr>\n",
       "\t<tr><td>1438</td><td>20</td><td>RL</td><td>96</td><td>12444</td><td>Pave</td><td>NA</td><td>Reg</td><td>Lvl</td><td>AllPub</td><td>⋯</td><td>0</td><td>NA</td><td>NA</td><td>NA</td><td>0</td><td>11</td><td>2008</td><td>New</td><td>Partial</td><td>394617</td></tr>\n",
       "\t<tr><td>1445</td><td>20</td><td>RL</td><td>63</td><td> 8500</td><td>Pave</td><td>NA</td><td>Reg</td><td>Lvl</td><td>AllPub</td><td>⋯</td><td>0</td><td>NA</td><td>NA</td><td>NA</td><td>0</td><td>11</td><td>2007</td><td>WD </td><td>Normal </td><td>179600</td></tr>\n",
       "\t<tr><td>1447</td><td>20</td><td>RL</td><td>NA</td><td>26142</td><td>Pave</td><td>NA</td><td>IR1</td><td>Lvl</td><td>AllPub</td><td>⋯</td><td>0</td><td>NA</td><td>NA</td><td>NA</td><td>0</td><td> 4</td><td>2010</td><td>WD </td><td>Normal </td><td>157900</td></tr>\n",
       "\t<tr><td>1452</td><td>20</td><td>RL</td><td>78</td><td> 9262</td><td>Pave</td><td>NA</td><td>Reg</td><td>Lvl</td><td>AllPub</td><td>⋯</td><td>0</td><td>NA</td><td>NA</td><td>NA</td><td>0</td><td> 5</td><td>2009</td><td>New</td><td>Partial</td><td>287090</td></tr>\n",
       "</tbody>\n",
       "</table>\n"
      ],
      "text/latex": [
       "A tibble: 365 × 81\n",
       "\\begin{tabular}{lllllllllllllllllllll}\n",
       " Id & MSSubClass & MSZoning & LotFrontage & LotArea & Street & Alley & LotShape & LandContour & Utilities & ⋯ & PoolArea & PoolQC & Fence & MiscFeature & MiscVal & MoSold & YrSold & SaleType & SaleCondition & SalePrice\\\\\n",
       " <dbl> & <dbl> & <chr> & <dbl> & <dbl> & <chr> & <chr> & <chr> & <chr> & <chr> & ⋯ & <dbl> & <chr> & <chr> & <chr> & <dbl> & <dbl> & <dbl> & <chr> & <chr> & <dbl>\\\\\n",
       "\\hline\n",
       "\t  4 &  70 & RL & 60 &  9550 & Pave & NA & IR1 & Lvl & AllPub & ⋯ & 0 & NA & NA & NA & 0 & 2 & 2006 & WD & Abnorml & 140000\\\\\n",
       "\t 10 & 190 & RL & 50 &  7420 & Pave & NA & Reg & Lvl & AllPub & ⋯ & 0 & NA & NA & NA & 0 & 1 & 2008 & WD & Normal  & 118000\\\\\n",
       "\t 11 &  20 & RL & 70 & 11200 & Pave & NA & Reg & Lvl & AllPub & ⋯ & 0 & NA & NA & NA & 0 & 2 & 2008 & WD & Normal  & 129500\\\\\n",
       "\t 13 &  20 & RL & NA & 12968 & Pave & NA & IR2 & Lvl & AllPub & ⋯ & 0 & NA & NA & NA & 0 & 9 & 2008 & WD & Normal  & 144000\\\\\n",
       "\t ⋮ & ⋮ & ⋮ & ⋮ & ⋮ & ⋮ & ⋮ & ⋮ & ⋮ & ⋮ & ⋱ & ⋮ & ⋮ & ⋮ & ⋮ & ⋮ & ⋮ & ⋮ & ⋮ & ⋮ & ⋮\\\\\n",
       "\t 1438 & 20 & RL & 96 & 12444 & Pave & NA & Reg & Lvl & AllPub & ⋯ & 0 & NA & NA & NA & 0 & 11 & 2008 & New & Partial & 394617\\\\\n",
       "\t 1445 & 20 & RL & 63 &  8500 & Pave & NA & Reg & Lvl & AllPub & ⋯ & 0 & NA & NA & NA & 0 & 11 & 2007 & WD  & Normal  & 179600\\\\\n",
       "\t 1447 & 20 & RL & NA & 26142 & Pave & NA & IR1 & Lvl & AllPub & ⋯ & 0 & NA & NA & NA & 0 &  4 & 2010 & WD  & Normal  & 157900\\\\\n",
       "\t 1452 & 20 & RL & 78 &  9262 & Pave & NA & Reg & Lvl & AllPub & ⋯ & 0 & NA & NA & NA & 0 &  5 & 2009 & New & Partial & 287090\\\\\n",
       "\\end{tabular}\n"
      ],
      "text/markdown": [
       "\n",
       "A tibble: 365 × 81\n",
       "\n",
       "| Id &lt;dbl&gt; | MSSubClass &lt;dbl&gt; | MSZoning &lt;chr&gt; | LotFrontage &lt;dbl&gt; | LotArea &lt;dbl&gt; | Street &lt;chr&gt; | Alley &lt;chr&gt; | LotShape &lt;chr&gt; | LandContour &lt;chr&gt; | Utilities &lt;chr&gt; | ⋯ ⋯ | PoolArea &lt;dbl&gt; | PoolQC &lt;chr&gt; | Fence &lt;chr&gt; | MiscFeature &lt;chr&gt; | MiscVal &lt;dbl&gt; | MoSold &lt;dbl&gt; | YrSold &lt;dbl&gt; | SaleType &lt;chr&gt; | SaleCondition &lt;chr&gt; | SalePrice &lt;dbl&gt; |\n",
       "|---|---|---|---|---|---|---|---|---|---|---|---|---|---|---|---|---|---|---|---|---|\n",
       "|  4 |  70 | RL | 60 |  9550 | Pave | NA | IR1 | Lvl | AllPub | ⋯ | 0 | NA | NA | NA | 0 | 2 | 2006 | WD | Abnorml | 140000 |\n",
       "| 10 | 190 | RL | 50 |  7420 | Pave | NA | Reg | Lvl | AllPub | ⋯ | 0 | NA | NA | NA | 0 | 1 | 2008 | WD | Normal  | 118000 |\n",
       "| 11 |  20 | RL | 70 | 11200 | Pave | NA | Reg | Lvl | AllPub | ⋯ | 0 | NA | NA | NA | 0 | 2 | 2008 | WD | Normal  | 129500 |\n",
       "| 13 |  20 | RL | NA | 12968 | Pave | NA | IR2 | Lvl | AllPub | ⋯ | 0 | NA | NA | NA | 0 | 9 | 2008 | WD | Normal  | 144000 |\n",
       "| ⋮ | ⋮ | ⋮ | ⋮ | ⋮ | ⋮ | ⋮ | ⋮ | ⋮ | ⋮ | ⋱ | ⋮ | ⋮ | ⋮ | ⋮ | ⋮ | ⋮ | ⋮ | ⋮ | ⋮ | ⋮ |\n",
       "| 1438 | 20 | RL | 96 | 12444 | Pave | NA | Reg | Lvl | AllPub | ⋯ | 0 | NA | NA | NA | 0 | 11 | 2008 | New | Partial | 394617 |\n",
       "| 1445 | 20 | RL | 63 |  8500 | Pave | NA | Reg | Lvl | AllPub | ⋯ | 0 | NA | NA | NA | 0 | 11 | 2007 | WD  | Normal  | 179600 |\n",
       "| 1447 | 20 | RL | NA | 26142 | Pave | NA | IR1 | Lvl | AllPub | ⋯ | 0 | NA | NA | NA | 0 |  4 | 2010 | WD  | Normal  | 157900 |\n",
       "| 1452 | 20 | RL | 78 |  9262 | Pave | NA | Reg | Lvl | AllPub | ⋯ | 0 | NA | NA | NA | 0 |  5 | 2009 | New | Partial | 287090 |\n",
       "\n"
      ],
      "text/plain": [
       "    Id   MSSubClass MSZoning LotFrontage LotArea Street Alley LotShape\n",
       "1    4    70        RL       60           9550   Pave   NA    IR1     \n",
       "2   10   190        RL       50           7420   Pave   NA    Reg     \n",
       "3   11    20        RL       70          11200   Pave   NA    Reg     \n",
       "4   13    20        RL       NA          12968   Pave   NA    IR2     \n",
       "⋮   ⋮    ⋮          ⋮        ⋮           ⋮       ⋮      ⋮     ⋮       \n",
       "362 1438 20         RL       96          12444   Pave   NA    Reg     \n",
       "363 1445 20         RL       63           8500   Pave   NA    Reg     \n",
       "364 1447 20         RL       NA          26142   Pave   NA    IR1     \n",
       "365 1452 20         RL       78           9262   Pave   NA    Reg     \n",
       "    LandContour Utilities ⋯ PoolArea PoolQC Fence MiscFeature MiscVal MoSold\n",
       "1   Lvl         AllPub    ⋯ 0        NA     NA    NA          0       2     \n",
       "2   Lvl         AllPub    ⋯ 0        NA     NA    NA          0       1     \n",
       "3   Lvl         AllPub    ⋯ 0        NA     NA    NA          0       2     \n",
       "4   Lvl         AllPub    ⋯ 0        NA     NA    NA          0       9     \n",
       "⋮   ⋮           ⋮         ⋱ ⋮        ⋮      ⋮     ⋮           ⋮       ⋮     \n",
       "362 Lvl         AllPub    ⋯ 0        NA     NA    NA          0       11    \n",
       "363 Lvl         AllPub    ⋯ 0        NA     NA    NA          0       11    \n",
       "364 Lvl         AllPub    ⋯ 0        NA     NA    NA          0        4    \n",
       "365 Lvl         AllPub    ⋯ 0        NA     NA    NA          0        5    \n",
       "    YrSold SaleType SaleCondition SalePrice\n",
       "1   2006   WD       Abnorml       140000   \n",
       "2   2008   WD       Normal        118000   \n",
       "3   2008   WD       Normal        129500   \n",
       "4   2008   WD       Normal        144000   \n",
       "⋮   ⋮      ⋮        ⋮             ⋮        \n",
       "362 2008   New      Partial       394617   \n",
       "363 2007   WD       Normal        179600   \n",
       "364 2010   WD       Normal        157900   \n",
       "365 2009   New      Partial       287090   "
      ]
     },
     "metadata": {},
     "output_type": "display_data"
    }
   ],
   "source": [
    "library(tidymodels)\n",
    "set.seed(1234)\n",
    "\n",
    "data_selected <- as.data.frame(data_selected)\n",
    "\n",
    "data_selected <- initial_split(data, prop = 3/4, strata = NULL)\n",
    "data_train <- training(data_selected)\n",
    "data_test <- testing(data_selected)\n",
    "\n",
    "data_train\n"
   ]
  },
  {
   "cell_type": "markdown",
   "metadata": {},
   "source": [
    "#### 2.3 Tabular Summary of Data"
   ]
  },
  {
   "cell_type": "code",
   "execution_count": 28,
   "metadata": {},
   "outputs": [
    {
     "data": {
      "text/html": [
       "<table>\n",
       "<caption>A tibble: 1 × 21</caption>\n",
       "<thead>\n",
       "\t<tr><th scope=col>Id</th><th scope=col>MSSubClass</th><th scope=col>LotArea</th><th scope=col>OverallQual</th><th scope=col>OverallCond</th><th scope=col>YearBuilt</th><th scope=col>YearRemodAdd</th><th scope=col>TotalBsmtSF</th><th scope=col>GrLivArea</th><th scope=col>BsmtFullBath</th><th scope=col>⋯</th><th scope=col>FullBath</th><th scope=col>HalfBath</th><th scope=col>KitchenAbvGr</th><th scope=col>TotRmsAbvGrd</th><th scope=col>Fireplaces</th><th scope=col>GarageCars</th><th scope=col>GarageArea</th><th scope=col>MoSold</th><th scope=col>YrSold</th><th scope=col>SalePrice</th></tr>\n",
       "\t<tr><th scope=col>&lt;dbl&gt;</th><th scope=col>&lt;dbl&gt;</th><th scope=col>&lt;dbl&gt;</th><th scope=col>&lt;dbl&gt;</th><th scope=col>&lt;dbl&gt;</th><th scope=col>&lt;dbl&gt;</th><th scope=col>&lt;dbl&gt;</th><th scope=col>&lt;dbl&gt;</th><th scope=col>&lt;dbl&gt;</th><th scope=col>&lt;dbl&gt;</th><th scope=col>⋯</th><th scope=col>&lt;dbl&gt;</th><th scope=col>&lt;dbl&gt;</th><th scope=col>&lt;dbl&gt;</th><th scope=col>&lt;dbl&gt;</th><th scope=col>&lt;dbl&gt;</th><th scope=col>&lt;dbl&gt;</th><th scope=col>&lt;dbl&gt;</th><th scope=col>&lt;dbl&gt;</th><th scope=col>&lt;dbl&gt;</th><th scope=col>&lt;dbl&gt;</th></tr>\n",
       "</thead>\n",
       "<tbody>\n",
       "\t<tr><td>1460</td><td>190</td><td>215245</td><td>10</td><td>9</td><td>2010</td><td>2010</td><td>6110</td><td>5642</td><td>3</td><td>⋯</td><td>3</td><td>2</td><td>3</td><td>14</td><td>3</td><td>4</td><td>1418</td><td>12</td><td>2010</td><td>755000</td></tr>\n",
       "</tbody>\n",
       "</table>\n"
      ],
      "text/latex": [
       "A tibble: 1 × 21\n",
       "\\begin{tabular}{lllllllllllllllllllll}\n",
       " Id & MSSubClass & LotArea & OverallQual & OverallCond & YearBuilt & YearRemodAdd & TotalBsmtSF & GrLivArea & BsmtFullBath & ⋯ & FullBath & HalfBath & KitchenAbvGr & TotRmsAbvGrd & Fireplaces & GarageCars & GarageArea & MoSold & YrSold & SalePrice\\\\\n",
       " <dbl> & <dbl> & <dbl> & <dbl> & <dbl> & <dbl> & <dbl> & <dbl> & <dbl> & <dbl> & ⋯ & <dbl> & <dbl> & <dbl> & <dbl> & <dbl> & <dbl> & <dbl> & <dbl> & <dbl> & <dbl>\\\\\n",
       "\\hline\n",
       "\t 1460 & 190 & 215245 & 10 & 9 & 2010 & 2010 & 6110 & 5642 & 3 & ⋯ & 3 & 2 & 3 & 14 & 3 & 4 & 1418 & 12 & 2010 & 755000\\\\\n",
       "\\end{tabular}\n"
      ],
      "text/markdown": [
       "\n",
       "A tibble: 1 × 21\n",
       "\n",
       "| Id &lt;dbl&gt; | MSSubClass &lt;dbl&gt; | LotArea &lt;dbl&gt; | OverallQual &lt;dbl&gt; | OverallCond &lt;dbl&gt; | YearBuilt &lt;dbl&gt; | YearRemodAdd &lt;dbl&gt; | TotalBsmtSF &lt;dbl&gt; | GrLivArea &lt;dbl&gt; | BsmtFullBath &lt;dbl&gt; | ⋯ ⋯ | FullBath &lt;dbl&gt; | HalfBath &lt;dbl&gt; | KitchenAbvGr &lt;dbl&gt; | TotRmsAbvGrd &lt;dbl&gt; | Fireplaces &lt;dbl&gt; | GarageCars &lt;dbl&gt; | GarageArea &lt;dbl&gt; | MoSold &lt;dbl&gt; | YrSold &lt;dbl&gt; | SalePrice &lt;dbl&gt; |\n",
       "|---|---|---|---|---|---|---|---|---|---|---|---|---|---|---|---|---|---|---|---|---|\n",
       "| 1460 | 190 | 215245 | 10 | 9 | 2010 | 2010 | 6110 | 5642 | 3 | ⋯ | 3 | 2 | 3 | 14 | 3 | 4 | 1418 | 12 | 2010 | 755000 |\n",
       "\n"
      ],
      "text/plain": [
       "  Id   MSSubClass LotArea OverallQual OverallCond YearBuilt YearRemodAdd\n",
       "1 1460 190        215245  10          9           2010      2010        \n",
       "  TotalBsmtSF GrLivArea BsmtFullBath ⋯ FullBath HalfBath KitchenAbvGr\n",
       "1 6110        5642      3            ⋯ 3        2        3           \n",
       "  TotRmsAbvGrd Fireplaces GarageCars GarageArea MoSold YrSold SalePrice\n",
       "1 14           3          4          1418       12     2010   755000   "
      ]
     },
     "metadata": {},
     "output_type": "display_data"
    },
    {
     "data": {
      "text/html": [
       "<table>\n",
       "<caption>A tibble: 1 × 21</caption>\n",
       "<thead>\n",
       "\t<tr><th scope=col>Id</th><th scope=col>MSSubClass</th><th scope=col>LotArea</th><th scope=col>OverallQual</th><th scope=col>OverallCond</th><th scope=col>YearBuilt</th><th scope=col>YearRemodAdd</th><th scope=col>TotalBsmtSF</th><th scope=col>GrLivArea</th><th scope=col>BsmtFullBath</th><th scope=col>⋯</th><th scope=col>FullBath</th><th scope=col>HalfBath</th><th scope=col>KitchenAbvGr</th><th scope=col>TotRmsAbvGrd</th><th scope=col>Fireplaces</th><th scope=col>GarageCars</th><th scope=col>GarageArea</th><th scope=col>MoSold</th><th scope=col>YrSold</th><th scope=col>SalePrice</th></tr>\n",
       "\t<tr><th scope=col>&lt;int&gt;</th><th scope=col>&lt;int&gt;</th><th scope=col>&lt;int&gt;</th><th scope=col>&lt;int&gt;</th><th scope=col>&lt;int&gt;</th><th scope=col>&lt;int&gt;</th><th scope=col>&lt;int&gt;</th><th scope=col>&lt;int&gt;</th><th scope=col>&lt;int&gt;</th><th scope=col>&lt;int&gt;</th><th scope=col>⋯</th><th scope=col>&lt;int&gt;</th><th scope=col>&lt;int&gt;</th><th scope=col>&lt;int&gt;</th><th scope=col>&lt;int&gt;</th><th scope=col>&lt;int&gt;</th><th scope=col>&lt;int&gt;</th><th scope=col>&lt;int&gt;</th><th scope=col>&lt;int&gt;</th><th scope=col>&lt;int&gt;</th><th scope=col>&lt;int&gt;</th></tr>\n",
       "</thead>\n",
       "<tbody>\n",
       "\t<tr><td>1460</td><td>15</td><td>1073</td><td>10</td><td>9</td><td>112</td><td>61</td><td>721</td><td>861</td><td>4</td><td>⋯</td><td>4</td><td>3</td><td>4</td><td>12</td><td>4</td><td>5</td><td>441</td><td>12</td><td>5</td><td>663</td></tr>\n",
       "</tbody>\n",
       "</table>\n"
      ],
      "text/latex": [
       "A tibble: 1 × 21\n",
       "\\begin{tabular}{lllllllllllllllllllll}\n",
       " Id & MSSubClass & LotArea & OverallQual & OverallCond & YearBuilt & YearRemodAdd & TotalBsmtSF & GrLivArea & BsmtFullBath & ⋯ & FullBath & HalfBath & KitchenAbvGr & TotRmsAbvGrd & Fireplaces & GarageCars & GarageArea & MoSold & YrSold & SalePrice\\\\\n",
       " <int> & <int> & <int> & <int> & <int> & <int> & <int> & <int> & <int> & <int> & ⋯ & <int> & <int> & <int> & <int> & <int> & <int> & <int> & <int> & <int> & <int>\\\\\n",
       "\\hline\n",
       "\t 1460 & 15 & 1073 & 10 & 9 & 112 & 61 & 721 & 861 & 4 & ⋯ & 4 & 3 & 4 & 12 & 4 & 5 & 441 & 12 & 5 & 663\\\\\n",
       "\\end{tabular}\n"
      ],
      "text/markdown": [
       "\n",
       "A tibble: 1 × 21\n",
       "\n",
       "| Id &lt;int&gt; | MSSubClass &lt;int&gt; | LotArea &lt;int&gt; | OverallQual &lt;int&gt; | OverallCond &lt;int&gt; | YearBuilt &lt;int&gt; | YearRemodAdd &lt;int&gt; | TotalBsmtSF &lt;int&gt; | GrLivArea &lt;int&gt; | BsmtFullBath &lt;int&gt; | ⋯ ⋯ | FullBath &lt;int&gt; | HalfBath &lt;int&gt; | KitchenAbvGr &lt;int&gt; | TotRmsAbvGrd &lt;int&gt; | Fireplaces &lt;int&gt; | GarageCars &lt;int&gt; | GarageArea &lt;int&gt; | MoSold &lt;int&gt; | YrSold &lt;int&gt; | SalePrice &lt;int&gt; |\n",
       "|---|---|---|---|---|---|---|---|---|---|---|---|---|---|---|---|---|---|---|---|---|\n",
       "| 1460 | 15 | 1073 | 10 | 9 | 112 | 61 | 721 | 861 | 4 | ⋯ | 4 | 3 | 4 | 12 | 4 | 5 | 441 | 12 | 5 | 663 |\n",
       "\n"
      ],
      "text/plain": [
       "  Id   MSSubClass LotArea OverallQual OverallCond YearBuilt YearRemodAdd\n",
       "1 1460 15         1073    10          9           112       61          \n",
       "  TotalBsmtSF GrLivArea BsmtFullBath ⋯ FullBath HalfBath KitchenAbvGr\n",
       "1 721         861       4            ⋯ 4        3        4           \n",
       "  TotRmsAbvGrd Fireplaces GarageCars GarageArea MoSold YrSold SalePrice\n",
       "1 12           4          5          441        12     5      663      "
      ]
     },
     "metadata": {},
     "output_type": "display_data"
    }
   ],
   "source": [
    "#Using only training data, summarize the data in at least one table (this is exploratory data analysis). \n",
    "#An example of a useful table could be one that reports the number of observations in each class, \n",
    "#the means of the predictor variables you plan to use in your analysis and how many rows have missing data. \n",
    "\n",
    "\n",
    "data_max <- summarize_all(data_selected_numeric,max, na.rm = TRUE)\n",
    "data_max\n",
    "data_min <- summarize_all(data_selected_numeric,min, na.rm = TRUE)\n",
    "data_mean <- summarize_all(data_selected_numeric,mean, na.rm = TRUE)\n",
    "data_unique_counts <- summarize_all(data_selected_numeric,n_distinct,na.rm=TRUE)\n"
   ]
  },
  {
   "cell_type": "markdown",
   "metadata": {},
   "source": [
    "#### 2.4 Visual Summary of Data"
   ]
  },
  {
   "cell_type": "code",
   "execution_count": 8,
   "metadata": {},
   "outputs": [],
   "source": [
    "#Using only training data, visualize the data with at least one plot relevant to the analysis you plan to do (this is exploratory data analysis).\n",
    "#An example of a useful visualization could be one that compares the distributions of each of the predictor variables you plan to use in your \n",
    "#analysis."
   ]
  },
  {
   "cell_type": "markdown",
   "metadata": {},
   "source": [
    "## 3. Methods"
   ]
  },
  {
   "cell_type": "markdown",
   "metadata": {},
   "source": [
    "//Explain how you will conduct either your data analysis and which variables/columns you will use. \n",
    "//Note - you do not need to use all variables/columns that exist in the raw data set. In fact, that's often not a good idea. \n",
    "//For each variable think: is this a useful variable for prediction?\n",
    "//TODO Describe at least one way in which you will visualize results\n",
    "\n",
    "(DRAFT)\n",
    "In order to determine which real estate factors contribute to most accurately predicting the selling price of a home, \n",
    "we will construct a multivariate linear regression model. Below is an overview of our proposed data analysis methods:\n",
    "- Reduce the number of potential explanatory variables from ~80 to [!!! INSERT HERE] (refer to section 2.2)\n",
    "- Clean, organize, and summarize the dataset (sections 2.2-2.4)\n",
    "- Explore and document pairwise relationships using graphical (scatterplot) and statistical (correlation) analysis\n",
    "- Conduct variable selection analysis to narrow down to a \"best subset\" of explanatory variables, leveraging the R 'leaps' and 'caret' packages\n",
    "- Tune model for a final result\n",
    "\n",
    "Throughout the process, we will be evaluating not only statistical significance but also interpretability and meaningfulness of our results. Our imperative is to produce a final result that we can explain in plain English."
   ]
  },
  {
   "cell_type": "markdown",
   "metadata": {},
   "source": [
    "## 4. Expected outcomes and significance"
   ]
  },
  {
   "cell_type": "markdown",
   "metadata": {},
   "source": [
    "#### 4.1 Expected findings"
   ]
  },
  {
   "cell_type": "markdown",
   "metadata": {},
   "source": [
    "// What do you expect to find?\n",
    "\n",
    "(DRAFT)\n",
    "\n",
    "We expect to find that size measures (square footage, # of bedrooms, lot size, etc.) of the home will be most positively correlated to selling price. Furthermore, we anticipate that recently renovated homes will exhibit higher predicted values than non-renovated homes. Finally, we expect an element of the unexpected. That is, we hypothesize that we will find factors that will significantly contribute to the selling price of a house for which we were not expecting to drive correlation."
   ]
  },
  {
   "cell_type": "markdown",
   "metadata": {},
   "source": [
    "#### 4.2 Potential impact"
   ]
  },
  {
   "cell_type": "markdown",
   "metadata": {},
   "source": [
    "(DRAFT)\n",
    "\n",
    "In our view, there are two potential impacts from this work: \n",
    "1. Real estate agents and developers could garner a better understanding into the magnitudes of the drivers of home selling prices.\n",
    "2. We can take key valuation insights with us in our personal life for when we one day purchase homes of our own."
   ]
  },
  {
   "cell_type": "markdown",
   "metadata": {},
   "source": [
    "#### 4.3 Potential future questions"
   ]
  },
  {
   "cell_type": "code",
   "execution_count": 15,
   "metadata": {},
   "outputs": [],
   "source": [
    "Our analysis on factors contributing to the selling price of a home could spark future questions, including:\n",
    "- TEAM TO FILL IN"
   ]
  }
 ],
 "metadata": {
  "kernelspec": {
   "display_name": "R",
   "language": "R",
   "name": "ir"
  },
  "language_info": {
   "codemirror_mode": "r",
   "file_extension": ".r",
   "mimetype": "text/x-r-source",
   "name": "R",
   "pygments_lexer": "r",
   "version": "4.0.0"
  }
 },
 "nbformat": 4,
 "nbformat_minor": 4
}
